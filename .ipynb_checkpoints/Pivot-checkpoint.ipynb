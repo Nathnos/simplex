{
 "cells": [
  {
   "cell_type": "code",
   "execution_count": 1,
   "metadata": {},
   "outputs": [],
   "source": [
    "def get_pivot(A, b, c, z):\n",
    "    def pivot(xB):\n",
    "        B = split(A, xB)\n",
    "        cB = split(c, xB)\n",
    "        B_inv = np.linalg.inv(B)\n",
    "        A2 = B_inv.dot(A)\n",
    "        b2 = B_inv.dot(b)\n",
    "        PI = cB.dot(B_inv)\n",
    "        c2 = c - PI.dot(A)\n",
    "        z2 = z - PI.dot(b)\n",
    "        return A2, b2, c2, z2\n",
    "    return pivot"
   ]
  },
  {
   "cell_type": "code",
   "execution_count": 11,
   "metadata": {},
   "outputs": [
    {
     "data": {
      "text/plain": [
       "(\n",
       "[   3    0    1    0    0   -1    0]  [  1]                       \n",
       "[   4    1    0   -1    0    2    0]  [  6]                       \n",
       "[-1/4    0    0  1/2  1/4    0    1], [5/4], [0 0 0 7 2 2 0], [35]\n",
       ")"
      ]
     },
     "execution_count": 11,
     "metadata": {},
     "output_type": "execute_result"
    }
   ],
   "source": [
    "var('a, b, c, d')\n",
    "a, b, c, d = (0, 0, 0, -5)\n",
    "a, b, c, d = (0, 0, 0, -8)\n",
    "#a, b, c, d = (0, -4, -2, -10)\n",
    "\n",
    "def split(A, xB):\n",
    "    return A.T[xB].T\n",
    "\n",
    "def pivot(xB, A, b, c, z):\n",
    "    B = split(A, xB)\n",
    "    cB = split(c, xB)\n",
    "    B_inv = B^-1\n",
    "    A2 = B_inv * A\n",
    "    b2 = B_inv * b\n",
    "    PI = cB * B_inv\n",
    "    c2 = c - PI * A\n",
    "    z2 = z - PI * b\n",
    "    return A2, b2, c2, z2\n",
    "    \n",
    "\n",
    "A = Matrix([[3, 0, 1, a, 0, -1, 0],\n",
    "            [4, 1, 0, -1, 0, 2, b],\n",
    "            [-1, 0, 0, 2, 1, c, 4]])\n",
    "xB = [2, 1, 6]\n",
    "b = Matrix([1, 6, 5]).T\n",
    "c = Matrix([2, 0, 0, 3, 0, 2, d])\n",
    "z = 25\n",
    "\n",
    "pivot(xB, A, b, c, z)"
   ]
  }
 ],
 "metadata": {
  "kernelspec": {
   "display_name": "SageMath 8.3",
   "language": "",
   "name": "sagemath"
  },
  "language_info": {
   "codemirror_mode": {
    "name": "ipython",
    "version": 2
   },
   "file_extension": ".py",
   "mimetype": "text/x-python",
   "name": "python",
   "nbconvert_exporter": "python",
   "pygments_lexer": "ipython2",
   "version": "2.7.16"
  }
 },
 "nbformat": 4,
 "nbformat_minor": 2
}
